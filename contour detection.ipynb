import numpy as np
import cv2
import matplotlib.pyplot as plt
from pprint import pprint
def illumination(orig):
    from math import floor
    #image in hsv format
    im=cv2.cvtColor(orig,cv2.COLOR_BGR2HSV)
    
    # brightness value
    value=im[...,2]
#     mean_value=min(value)
#     print(mean_value)
    im[...,2]=np.where(value<140,185,185)
    im=cv2.cvtColor(im,cv2.COLOR_HSV2BGR)
    
    cv2.imwrite(r"C:/Users/Dell/Desktop/Machine Learning/Text detection/detected/illumination.jpg",im)    
    
    return im
 def preprocessing(orig) :
    
    #grayscale
    orig_gray=cv2.cvtColor(orig,cv2.COLOR_BGR2GRAY)
    
    #blur
    img_blur=cv2.GaussianBlur(orig_gray,(7,7),0)
    
    #pixels with value below 150 are turned black (0) and those with higher value are turned white (255)
    _,img_thresh=cv2.threshold(img_blur,150,255,cv2.THRESH_BINARY)
#     img_thresh=cv2.threshold(img_blur,255,cv2.ADAPTIVE_THRESH_GAUSSIAN_C,cv2.THRESH_BINARY,11)
    
#     img_thresh=img_blur

    cv2.imwrite(r"C:/Users/Dell/Desktop/Machine Learning/Text detection/detected/preprocess.jpg",img_thresh)    
    
    return img_thresh
 def tight_crop(img) :

    #image area
    area=img.shape[0]*img.shape[1]
    
    #x,x+w,y,y+h
    min_x=img.shape[0]
    min_y=img.shape[1]
    max_x=0
    max_y=0
    
    # finding contours
    _,cnts,_ = cv2.findContours(img, cv2.RETR_TREE, cv2.CHAIN_APPROX_SIMPLE)
    
    
    #finding the contour enclosing the equation
    for cnt in cnts:
        x,y,w,h =  cv2.boundingRect(cnt)
        if w*h>area*0.002 and w*h != area:
    
            min_x=min(x,min_x)
            min_y=min(y,min_y)
            max_x=max(x+w,max_x)
            max_y=max(y+h,max_y)
        
    #save image
    new_image=img[min_y-10:max_y+10,min_x-10:max_x+10]
 cv2.imwrite(r"C:/Users/Dell/Desktop/Machine Learning/Text detection/detected/tight crop.jpg",new_image)    
    
    #coordinates
    coor=[min_x,min_y,max_x,max_y]

    
    return new_image,coor
  def contours(orig_img,coor):
    
    img=orig_img[coor[1]-10:coor[3]+10,coor[0]-10:coor[2]+10]

#     #gray
#     img_gray=cv2.cvtColor(img,cv2.COLOR_BGR2GRAY)
    
#     #blur
#     img_blur=cv2.GaussianBlur(img_gray,(11,11),0)

    #thresh
    _,img_thresh=cv2.threshold(orig_img,120,250,cv2.THRESH_BINARY)  
#     img_thresh=cv2.threshold(orig_img,250,cv2.ADAPTIVE_THRESH_GAUSSIAN_C,cv2.THRESH_BINARY,11)  
#     img_thresh=orig_img
    
    #canny
    img_canny=cv2.Canny(img_thresh,240,250)

    # deletable code
    cv2.imwrite(r'C:\Users\Dell\Desktop\Machine Learning\Text detection\detected\threshold.jpg',img_thresh)
    cv2.imwrite(r'C:\Users\Dell\Desktop\Machine Learning\Text detection\detected\canny.jpg',img_canny)
        
    # find contours
    _,cnts,_= cv2.findContours(img_canny, cv2.RETR_EXTERNAL, cv2.CHAIN_APPROX_SIMPLE)
        
    #area of image
    area=img_canny.shape[0]*img_canny.shape[1]
 area=img_canny.shape[0]*img_canny.shape[1]

    #save contours detected as array
    cont=[]
    
    #to save coordinates of contours
    contour_coor={}
    
    indx=0
    
    for cnt in cnts:
        
        x,y,w,h=cv2.boundingRect(cnt)
        
        if w*h>0.002*area and w*h!=area:
        
            #contour coordinates
            contour_coor[indx]=[x,x+w,y,y+h]
        
            #append contours in array
            cont.append(img[y:y+h,x:x+w])
            
            #save contour images
            crop_rect=orig_img[y:y+h,x:x+w]
            cv2.imwrite(r"C:/Users/Dell/Desktop/Machine Learning/Text detection/detected/"+str(indx)+".jpg",crop_rect)
            
            indx+=1
  return cont,contour_coor
  def pad_image(images):

    new_images=[]
    for im in images:
        new_im=cv2.copyMakeBorder(im,top=40,bottom=40,left=40,right=40,borderType=cv2.BORDER_CONSTANT,value=[255,255,255])
        new_images.append(new_im)
    return new_images
